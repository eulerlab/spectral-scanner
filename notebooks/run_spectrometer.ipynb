{
 "cells": [
  {
   "cell_type": "code",
   "execution_count": 12,
   "metadata": {},
   "outputs": [],
   "source": [
    "import os\n",
    "import pyboard\n",
    "import time\n",
    "import json\n",
    "import numpy as np\n",
    "from pylab import *\n",
    "from tqdm import tqdm\n",
    "\n",
    "%matplotlib inline"
   ]
  },
  {
   "cell_type": "markdown",
   "metadata": {},
   "source": [
    "Define some helpers"
   ]
  },
  {
   "cell_type": "code",
   "execution_count": 13,
   "metadata": {},
   "outputs": [],
   "source": [
    "def save(fname):\n",
    "    \"\"\" Save latest spectral image including header as a numpy file (for now)\n",
    "    \"\"\"\n",
    "    global header, SpectImg, wavelengths_nm\n",
    "    with open(fname, 'wb') as f:\n",
    "        np.save(f, header)\n",
    "        np.save(f, SpectImg)\n",
    "        np.save(f, wavelengths_nm)\n",
    "    \n",
    "def nan2zero(data):\n",
    "    \"\"\" Replace NaNs and negative values by zeros\n",
    "    \"\"\"\n",
    "    return [val if val>0 else 0 for val in data]"
   ]
  },
  {
   "cell_type": "markdown",
   "metadata": {},
   "source": [
    "### Connect to scanner (microcontroller)\n",
    "\n",
    "Define a function that runs the code contained in a list of strings on the ESP32. By default, it does not print any text coming from the microcontroller into the history. The function returns the output of the last command as a string.\n",
    "\n",
    "Generate a pyboard object on the COM port connected to the ESP32 (here `COM3`) and enter REPL mode; the MicroPython \"shell\" is now ready to receive commands"
   ]
  },
  {
   "cell_type": "code",
   "execution_count": 14,
   "metadata": {},
   "outputs": [
    {
     "name": "stdout",
     "output_type": "stream",
     "text": [
      "crw-rw---- 1 root dialout 188, 1 Jun 17 10:15 /dev/ttyUSB1\n"
     ]
    }
   ],
   "source": [
    "!ls -l /dev/ttyUSB*"
   ]
  },
  {
   "cell_type": "code",
   "execution_count": 15,
   "metadata": {},
   "outputs": [
    {
     "name": "stdout",
     "output_type": "stream",
     "text": [
      "/dev/ttyUSB1\n"
     ]
    }
   ],
   "source": [
    "result = os.popen('ls -l /dev/ttyUSB*').read()\n",
    "result = result.strip('\\n').split(' ')\n",
    "port = result[-1]\n",
    "print(port)"
   ]
  },
  {
   "cell_type": "code",
   "execution_count": 17,
   "metadata": {},
   "outputs": [],
   "source": [
    "def run_on_board(code, wait_s=0, no_print=False):\n",
    "    for ln in code:\n",
    "        res = pb.exec(ln)\n",
    "        if len(res) > 0 and not no_print:\n",
    "            res = res[:-2].decode()\n",
    "            print(res)\n",
    "    if wait_s > 0:\n",
    "        time.sleep(wait_s)        \n",
    "    return res        \n",
    "\n",
    "pb = None\n",
    "try:\n",
    "    pb = pyboard.Pyboard(port)\n",
    "    pb.enter_raw_repl()  \n",
    "except pyboard.PyboardError as e:\n",
    "    print(e)     "
   ]
  },
  {
   "cell_type": "markdown",
   "metadata": {},
   "source": [
    "### Create a scanner object ...\n",
    "\n",
    "... on the microcontroller."
   ]
  },
  {
   "cell_type": "code",
   "execution_count": 18,
   "metadata": {},
   "outputs": [
    {
     "name": "stdout",
     "output_type": "stream",
     "text": [
      "c,_|Initializing ...\n",
      "Servo at pin 27 (50 Hz) ready.\n",
      "in servo_base.py,r=array('i', [1010, 1931, 921, -45, 45, 90]), angle=0,sign=1\n",
      "Servo at pin 33 (50 Hz) ready.\n",
      "in servo_base.py,r=array('i', [1033, 1916, 883, -45, 45, 90]), angle=0,sign=1\n",
      "c,_|Servo manager ready\n",
      "c,_|Spectrometer ready\n"
     ]
    }
   ],
   "source": [
    "script = [\n",
    "    'from scanner import Scanner',\n",
    "    'sc = Scanner(verbose=False)',\n",
    "]\n",
    "tmp = run_on_board(script, wait_s=0.4, no_print=False)"
   ]
  },
  {
   "cell_type": "markdown",
   "metadata": {},
   "source": [
    "### Scan \n",
    "\n",
    "First prepare a scan and retrieve important information fro the ESP32 (`header`) ..."
   ]
  },
  {
   "cell_type": "code",
   "execution_count": 6,
   "metadata": {},
   "outputs": [
    {
     "name": "stdout",
     "output_type": "stream",
     "text": [
      "{'file_version': 1, 'date_yyyymmdd': [2000, 1, 1], 'time_hhmmss': [0, 14, 17], 'step_xy_deg': [2, 2], 'n_spect': 288, 'size_xy': [90, 88], 't_int_s': 0.005}\n"
     ]
    }
   ],
   "source": [
    "dxy = (90,88)       # Dimension of the image\n",
    "dStep = 2           # Step size in [°]\n",
    "tInt_s = 0.005      # Integration time in seconds\n",
    "fname = \"\"          # File name, keep empty if only temporary\n",
    "\n",
    "header = {}\n",
    "wavelengths_nm = None\n",
    "\n",
    "s = \"({0},{1}), ({2},{3}), {4},{5}\".format(dxy[0], dxy[1], dStep, dStep, tInt_s,1)\n",
    "tmp = run_on_board(['sc.setupScan(\"\", {0})'.format(s)], no_print=True)\n",
    "tmpList = tmp.decode().split(\"\\r\\n\")\n",
    "for ln in tmpList:\n",
    "    if len(ln.split(\"|\")) > 1:\n",
    "        s = ln.split(\"|\")[1].replace(\"\\'\", \"\\\"\")\n",
    "        if ln[0] == \"c\":\n",
    "            # This is a comment, ignore\n",
    "            pass\n",
    "        elif ln[0] == \"w\":\n",
    "            # Extract wavelengths\n",
    "            wavelengths_nm = np.array(json.loads(s)[\"wavelength_nm\"])\n",
    "        elif ln[0] == \"h\":    \n",
    "            # Extract header information\n",
    "            header.update(json.loads(s))\n",
    "        else:    \n",
    "            print(\"-\")\n",
    "\n",
    "print(header)     "
   ]
  },
  {
   "cell_type": "markdown",
   "metadata": {},
   "source": [
    "... and then perform scan"
   ]
  },
  {
   "cell_type": "code",
   "execution_count": 7,
   "metadata": {},
   "outputs": [
    {
     "name": "stdout",
     "output_type": "stream",
     "text": [
      "90 88\n"
     ]
    }
   ],
   "source": [
    "dx, dy = header[\"size_xy\"]\n",
    "sx, sy = header[\"step_xy_deg\"]\n",
    "print(dx,dy)"
   ]
  },
  {
   "cell_type": "code",
   "execution_count": 9,
   "metadata": {},
   "outputs": [],
   "source": [
    "nPix = (dx//sx+1)*(dy//sy+1)"
   ]
  },
  {
   "cell_type": "code",
   "execution_count": null,
   "metadata": {
    "scrolled": true
   },
   "outputs": [
    {
     "name": "stdout",
     "output_type": "stream",
     "text": [
      "(2070, 288)\n"
     ]
    },
    {
     "name": "stderr",
     "output_type": "stream",
     "text": [
      " 27%|██████████▊                             | 557/2070 [02:35<06:59,  3.61it/s]"
     ]
    }
   ],
   "source": [
    "SpectImg = np.zeros(((dx//sx+1)*(dy//sy+1), header[\"n_spect\"]))\n",
    "print(SpectImg.shape)\n",
    "for iPix in tqdm(range(nPix)):\n",
    "    tmp = run_on_board([\"sc.scanNext()\"], no_print=True)\n",
    "    ln = tmp.decode().split(\"\\r\\n\")[1].split(\"|\")\n",
    "    if len(ln) > 1:\n",
    "        s = ln[1].replace(\"\\'\", \"\\\"\")\n",
    "        d = json.loads(s)\n",
    "        # x, y = d[\"xy\"]\n",
    "        #x = int(x /sx +dx//2)\n",
    "        #y = int(y /sy +dy//2)\n",
    "        SpectImg[iPix] = d[\"spect_au\"]"
   ]
  },
  {
   "cell_type": "markdown",
   "metadata": {},
   "source": [
    "### Process and display data\n",
    "\n",
    "First, generate a black/white image of the scene"
   ]
  },
  {
   "cell_type": "code",
   "execution_count": null,
   "metadata": {},
   "outputs": [],
   "source": [
    "SpectImage = SpectImage.reshape((dx//sx+1,dy//sy+1,288)\n",
    "imgMono = np.zeros((dx//sx+1, dy//sx+1, 3))\n",
    "img = np.trapz(SpectImg)\n",
    "img /= img.max()\n",
    "for iCh in range(3):\n",
    "    imgMono[:,:,iCh] = img\n",
    "    \n",
    "fig, (ax1) = plt.subplots(1, 1, figsize=(9,3))\n",
    "im1 = ax1.imshow(imgMono)    "
   ]
  },
  {
   "cell_type": "code",
   "execution_count": null,
   "metadata": {},
   "outputs": [],
   "source": [
    "np.save('./test90882_spectImag.npy',SpectImg)"
   ]
  },
  {
   "cell_type": "markdown",
   "metadata": {},
   "source": [
    "Make a normalized copy of the spectral image"
   ]
  },
  {
   "cell_type": "code",
   "execution_count": 8,
   "metadata": {},
   "outputs": [],
   "source": [
    "SpectImgN = np.copy(SpectImg)\n",
    "SpectImgN -= SpectImg.min()\n",
    "SpectImgN /= SpectImg.max()"
   ]
  },
  {
   "cell_type": "markdown",
   "metadata": {},
   "source": [
    "Load human opsin curves and make interpolated versions on the x-scale of the spectral images"
   ]
  },
  {
   "cell_type": "code",
   "execution_count": 18,
   "metadata": {},
   "outputs": [
    {
     "data": {
      "text/plain": [
       "Text(0.5, 0, '[nm]')"
      ]
     },
     "execution_count": 18,
     "metadata": {},
     "output_type": "execute_result"
    },
    {
     "data": {
      "image/png": "[encoded data removed]",
      "text/plain": [
       "<Figure size 432x288 with 1 Axes>"
      ]
     },
     "metadata": {
      "needs_background": "light"
     },
     "output_type": "display_data"
    }
   ],
   "source": [
    "opsin_nm = np.load(\"opsins/wavelengths_nm.npz\")[\"nm\"]\n",
    "tempData = np.load(\"opsins/human_SML.npz\")\n",
    "\n",
    "opsin_hSI = np.interp(wavelengths_nm, opsin_nm, nan2zero(tempData[\"s\"]))\n",
    "opsin_hMI = np.interp(wavelengths_nm, opsin_nm, nan2zero(tempData[\"m\"]))\n",
    "opsin_hLI = np.interp(wavelengths_nm, opsin_nm, nan2zero(tempData[\"l\"]))\n",
    "\n",
    "plot(wavelengths_nm, opsin_hSI, \"b\")\n",
    "plot(wavelengths_nm, opsin_hMI, \"g\")\n",
    "plot(wavelengths_nm, opsin_hLI, \"r\")\n",
    "plot(wavelengths_nm, SpectImgN[0,0])\n",
    "ylabel(\"intensity or sensitivity, norm.\")\n",
    "xlabel(\"[nm]\")"
   ]
  },
  {
   "cell_type": "markdown",
   "metadata": {},
   "source": [
    "Show the image as a human observer would see it\n",
    "(Unfortunately, the weather was rainy; this is the view from my office window)"
   ]
  },
  {
   "cell_type": "code",
   "execution_count": 10,
   "metadata": {},
   "outputs": [
    {
     "data": {
      "image/png": "[encoded data removed]",
      "text/plain": [
       "<Figure size 648x216 with 1 Axes>"
      ]
     },
     "metadata": {
      "needs_background": "light"
     },
     "output_type": "display_data"
    }
   ],
   "source": [
    "dx, dy, n = SpectImg.shape\n",
    "imgRGB = np.zeros((dx, dy, 3))\n",
    "\n",
    "s = opsin_hSI *SpectImgN\n",
    "img_s = np.trapz(s)\n",
    "imgRGB[:,:,0] = img_s /img_s.max()\n",
    "m = opsin_hMI *SpectImgN\n",
    "img_m = np.trapz(m)\n",
    "imgRGB[:,:,1] = img_m /img_m.max()\n",
    "l = opsin_hLI *SpectImgN\n",
    "img_l = np.trapz(l)\n",
    "imgRGB[:,:,2] = img_l /img_l.max()\n",
    "\n",
    "#img /= img.max()\n",
    "fig, (ax1) = plt.subplots(1, 1, figsize=(9,3))\n",
    "im1 = ax1.imshow(imgRGB)    "
   ]
  },
  {
   "cell_type": "code",
   "execution_count": 15,
   "metadata": {},
   "outputs": [],
   "source": [
    "fname = \"2020-12-28_1100_Test.npy\"       "
   ]
  },
  {
   "cell_type": "code",
   "execution_count": 16,
   "metadata": {},
   "outputs": [
    {
     "name": "stdout",
     "output_type": "stream",
     "text": [
      "Spectral image saved as `2020-12-28_1100_Test.npy`\n"
     ]
    }
   ],
   "source": [
    "if len(fname) > 0:\n",
    "    save(fname)\n",
    "    print(\"Spectral image saved as `{0}`\".format(fname))"
   ]
  }
 ],
 "metadata": {
  "kernelspec": {
   "display_name": "Python 3 (ipykernel)",
   "language": "python",
   "name": "python3"
  },
  "language_info": {
   "codemirror_mode": {
    "name": "ipython",
    "version": 3
   },
   "file_extension": ".py",
   "mimetype": "text/x-python",
   "name": "python",
   "nbconvert_exporter": "python",
   "pygments_lexer": "ipython3",
   "version": "3.10.12"
  }
 },
 "nbformat": 4,
 "nbformat_minor": 4
}
