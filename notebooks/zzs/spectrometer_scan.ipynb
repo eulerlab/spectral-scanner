{
 "cells": [
  {
   "cell_type": "code",
   "execution_count": 1,
   "metadata": {},
   "outputs": [],
   "source": [
    "import time\n",
    "\n",
    "import seabreeze.spectrometers as sb\n",
    "#\n",
    "import os\n",
    "import math\n",
    "import numpy as np\n",
    "import matplotlib.pyplot as plt\n",
    "\n",
    "# set graphics to be plotted in the notebook\n",
    "%matplotlib inline"
   ]
  },
  {
   "cell_type": "code",
   "execution_count": 2,
   "metadata": {},
   "outputs": [
    {
     "ename": "SeaBreezeError",
     "evalue": "No device attached with serial number 'S03615'.",
     "output_type": "error",
     "traceback": [
      "\u001b[0;31m---------------------------------------------------------------------------\u001b[0m",
      "\u001b[0;31mSeaBreezeError\u001b[0m                            Traceback (most recent call last)",
      "Cell \u001b[0;32mIn[2], line 3\u001b[0m\n\u001b[1;32m      1\u001b[0m \u001b[38;5;66;03m#spectrometer\u001b[39;00m\n\u001b[1;32m      2\u001b[0m \u001b[38;5;66;03m#spec = sb.Spectrometer.from_serial_number(\"S15434\") # STS-VIS serial number: S15434 \u001b[39;00m\n\u001b[0;32m----> 3\u001b[0m spec \u001b[38;5;241m=\u001b[39m \u001b[43msb\u001b[49m\u001b[38;5;241;43m.\u001b[39;49m\u001b[43mSpectrometer\u001b[49m\u001b[38;5;241;43m.\u001b[39;49m\u001b[43mfrom_serial_number\u001b[49m\u001b[43m(\u001b[49m\u001b[38;5;124;43m\"\u001b[39;49m\u001b[38;5;124;43mS03615\u001b[39;49m\u001b[38;5;124;43m\"\u001b[39;49m\u001b[43m)\u001b[49m \u001b[38;5;66;03m# STS-NIR serial number: S16128\u001b[39;00m\n\u001b[1;32m      4\u001b[0m \u001b[38;5;66;03m# serial number\u001b[39;00m\n\u001b[1;32m      5\u001b[0m \u001b[38;5;28mprint\u001b[39m (spec\u001b[38;5;241m.\u001b[39mserial_number)\n",
      "File \u001b[0;32m~/.local/lib/python3.10/site-packages/seabreeze/spectrometers.py:144\u001b[0m, in \u001b[0;36mSpectrometer.from_serial_number\u001b[0;34m(cls, serial)\u001b[0m\n\u001b[1;32m    142\u001b[0m             \u001b[38;5;28;01mreturn\u001b[39;00m \u001b[38;5;28mcls\u001b[39m(dev)\n\u001b[1;32m    143\u001b[0m \u001b[38;5;28;01melse\u001b[39;00m:\n\u001b[0;32m--> 144\u001b[0m     \u001b[38;5;28;01mraise\u001b[39;00m \u001b[38;5;28mcls\u001b[39m\u001b[38;5;241m.\u001b[39m_backend\u001b[38;5;241m.\u001b[39mSeaBreezeError(\n\u001b[1;32m    145\u001b[0m         \u001b[38;5;124m\"\u001b[39m\u001b[38;5;124mNo device attached with serial number \u001b[39m\u001b[38;5;124m'\u001b[39m\u001b[38;5;132;01m%s\u001b[39;00m\u001b[38;5;124m'\u001b[39m\u001b[38;5;124m.\u001b[39m\u001b[38;5;124m\"\u001b[39m \u001b[38;5;241m%\u001b[39m serial\n\u001b[1;32m    146\u001b[0m     )\n",
      "\u001b[0;31mSeaBreezeError\u001b[0m: No device attached with serial number 'S03615'."
     ]
    }
   ],
   "source": [
    "#spectrometer\n",
    "#spec = sb.Spectrometer.from_serial_number(\"S15434\") # STS-VIS serial number: S15434 \n",
    "spec = sb.Spectrometer.from_serial_number(\"S03615\") # STS-NIR serial number: S16128\n",
    "# serial number\n",
    "print (spec.serial_number)\n",
    "# model\n",
    "print (spec.model)\n",
    "# number of pixels (as returned by seabreeze)\n",
    "print (spec.pixels)"
   ]
  },
  {
   "cell_type": "code",
   "execution_count": 3,
   "metadata": {},
   "outputs": [],
   "source": [
    "#set integration time\n",
    "micro_time=20 #us\n",
    "spec.integration_time_micros(micro_time)"
   ]
  },
  {
   "cell_type": "code",
   "execution_count": 13,
   "metadata": {},
   "outputs": [
    {
     "name": "stdout",
     "output_type": "stream",
     "text": [
      "1123.5032598432654 634.06689453125\n"
     ]
    },
    {
     "data": {
      "image/png": "[encoded data removed]",
      "text/plain": [
       "<Figure size 432x288 with 1 Axes>"
      ]
     },
     "metadata": {
      "needs_background": "light"
     },
     "output_type": "display_data"
    }
   ],
   "source": [
    "#spectrometer test\n",
    "trial_num=1\n",
    "trials=[]\n",
    "for i_num in range(trial_num):\n",
    "    wavelengths, intensities = spec.spectrum() # core function\n",
    "    trials.append(intensities)\n",
    "intensities=np.mean(trials,axis=0)\n",
    "#\n",
    "plt.plot(wavelengths,intensities)\n",
    "plt.xlabel (\"Wavelenght (nm)\")\n",
    "plt.ylabel(\"Counts (raw output of spectrometer)\")\n",
    "print (np.max(wavelengths),np.min(wavelengths))"
   ]
  },
  {
   "cell_type": "code",
   "execution_count": 14,
   "metadata": {},
   "outputs": [],
   "source": [
    "#save\n",
    "wave_int=np.zeros((len(wavelengths),2))\n",
    "wave_int[:,0]=wavelengths\n",
    "wave_int[:,1]=intensities\n",
    "#np.savetxt('wave_int.txt', wave_int)\n",
    "np.savetxt(\"710nm_no_pulsing_int.csv\", wave_int, delimiter=\",\")"
   ]
  },
  {
   "cell_type": "code",
   "execution_count": null,
   "metadata": {},
   "outputs": [],
   "source": []
  }
 ],
 "metadata": {
  "kernelspec": {
   "display_name": "Python 3 (ipykernel)",
   "language": "python",
   "name": "python3"
  },
  "language_info": {
   "codemirror_mode": {
    "name": "ipython",
    "version": 3
   },
   "file_extension": ".py",
   "mimetype": "text/x-python",
   "name": "python",
   "nbconvert_exporter": "python",
   "pygments_lexer": "ipython3",
   "version": "3.10.12"
  },
  "varInspector": {
   "cols": {
    "lenName": 16,
    "lenType": 16,
    "lenVar": 40
   },
   "kernels_config": {
    "python": {
     "delete_cmd_postfix": "",
     "delete_cmd_prefix": "del ",
     "library": "var_list.py",
     "varRefreshCmd": "print(var_dic_list())"
    },
    "r": {
     "delete_cmd_postfix": ") ",
     "delete_cmd_prefix": "rm(",
     "library": "var_list.r",
     "varRefreshCmd": "cat(var_dic_list()) "
    }
   },
   "types_to_exclude": [
    "module",
    "function",
    "builtin_function_or_method",
    "instance",
    "_Feature"
   ],
   "window_display": false
  }
 },
 "nbformat": 4,
 "nbformat_minor": 4
}
