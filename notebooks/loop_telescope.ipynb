{
 "cells": [
  {
   "cell_type": "code",
   "execution_count": 1,
   "id": "230073c4-5b6d-410a-a9f3-87a8b13ab3c1",
   "metadata": {},
   "outputs": [],
   "source": [
    "import pyboard\n",
    "import time\n",
    "import json\n",
    "import numpy as np\n",
    "from pylab import *\n",
    "from tqdm import tqdm\n",
    "import os\n",
    "import pickle\n",
    "%matplotlib inline"
   ]
  },
  {
   "cell_type": "code",
   "execution_count": 2,
   "id": "7f3ac25e-9296-483f-afb1-da39aa017953",
   "metadata": {},
   "outputs": [],
   "source": [
    "def unPickle(filename):\n",
    "    '''\n",
    "    to shorten 3 lines into 1 line\n",
    "    '''\n",
    "    with open(filename,'rb') as f:\n",
    "        output = pickle.load(f)\n",
    "    f.close()\n",
    "    return output\n",
    "\n",
    "def makePickle(filename,data):\n",
    "    with open(filename,'wb') as f:\n",
    "        pickle.dump(data,f)\n",
    "    f.close()"
   ]
  },
  {
   "cell_type": "markdown",
   "id": "e34d1c4d-737b-4555-8b9b-1524fec9f474",
   "metadata": {},
   "source": [
    "## in Linux\n",
    "### find the USB-port for the EPS32"
   ]
  },
  {
   "cell_type": "code",
   "execution_count": 3,
   "id": "b82152f4-7a40-4bb7-a237-efb66ad86cba",
   "metadata": {},
   "outputs": [],
   "source": [
    "gc_cmd = ['import gc',\n",
    "         'gc.collect()']"
   ]
  },
  {
   "cell_type": "code",
   "execution_count": 4,
   "id": "540b619d-c4da-4927-a78e-fa05e76daf02",
   "metadata": {},
   "outputs": [
    {
     "name": "stdout",
     "output_type": "stream",
     "text": [
      "/dev/ttyUSB3\n"
     ]
    }
   ],
   "source": [
    "result = os.popen('ls -l /dev/ttyUSB*').read()\n",
    "result = result.strip('\\n').split(' ')\n",
    "port = result[-1]\n",
    "print(port)"
   ]
  },
  {
   "cell_type": "code",
   "execution_count": 5,
   "id": "7604ef1d-622e-4690-9f12-881746fea4cf",
   "metadata": {},
   "outputs": [],
   "source": [
    "def run_on_board(code, wait_s=0, no_print=False):\n",
    "    for ln in code:\n",
    "        res = pb.exec(ln)\n",
    "        if len(res) > 0 and not no_print:\n",
    "            res = res[:-2].decode()\n",
    "            print(res)\n",
    "    if wait_s > 0:\n",
    "        time.sleep(wait_s)        \n",
    "    return res        \n",
    "\n",
    "pb = None\n",
    "try:\n",
    "    pb = pyboard.Pyboard(port)\n",
    "    pb.enter_raw_repl()  \n",
    "except pyboard.PyboardError as e:\n",
    "    print(e)     "
   ]
  },
  {
   "cell_type": "markdown",
   "id": "8885e58a-7360-4a1a-a765-b04b2a492b9e",
   "metadata": {},
   "source": [
    "### import and instantiate a scanner object"
   ]
  },
  {
   "cell_type": "code",
   "execution_count": 6,
   "id": "2431128f-9c8f-41af-8287-c02eb281c90e",
   "metadata": {},
   "outputs": [
    {
     "name": "stdout",
     "output_type": "stream",
     "text": [
      "c,_|Initializing ...\n",
      "Servo at pin 27 (50 Hz) ready.\n",
      "in servo_base.py,r=array('i', [1010, 1931, 921, -45, 45, 90]), angle=0,sign=1\n",
      "Servo at pin 33 (50 Hz) ready.\n",
      "in servo_base.py,r=array('i', [1033, 1916, 883, -45, 45, 90]), angle=0,sign=1\n",
      "c,_|Servo manager ready\n",
      "c,_|Spectrometer ready\n"
     ]
    }
   ],
   "source": [
    "script = [\n",
    "    'from scanner import Scanner',\n",
    "    'sc = Scanner(verbose=False)'\n",
    "]\n",
    "tmp = run_on_board(script, wait_s=0.4, no_print=False)"
   ]
  },
  {
   "cell_type": "markdown",
   "id": "90e18f50-d2c6-4768-a0b6-54a55b1507a3",
   "metadata": {},
   "source": [
    "### acquire the min. integration time from the C12880MA Class"
   ]
  },
  {
   "cell_type": "code",
   "execution_count": 7,
   "id": "0794d20d-cb72-4cb6-9676-2eb78ea7ea91",
   "metadata": {},
   "outputs": [
    {
     "name": "stdout",
     "output_type": "stream",
     "text": [
      "2570\n"
     ]
    }
   ],
   "source": [
    "script = ['sc.SP._measureMinIntegTime()',\n",
    "          'print(sc.SP._min_integ_us)']\n",
    "min_integ_us = json.loads(run_on_board(script, no_print=True))\n",
    "print(min_integ_us)"
   ]
  },
  {
   "cell_type": "markdown",
   "id": "f05eefc8-2a28-4672-9fef-91c2786641af",
   "metadata": {},
   "source": [
    "#### do test measurements at different location"
   ]
  },
  {
   "cell_type": "code",
   "execution_count": 8,
   "id": "95ca6e58-4d4a-4f67-b038-4c230cbb1100",
   "metadata": {},
   "outputs": [],
   "source": [
    "def get_spectrum():\n",
    "    script = [\n",
    "        'sc.SP.read()',\n",
    "        'print(list(sc.SP.spectrum))'\n",
    "    ]\n",
    "    raw = json.loads(run_on_board(script, no_print=True))\n",
    "    return raw"
   ]
  },
  {
   "cell_type": "code",
   "execution_count": 9,
   "id": "4b9ebd71-3865-45d9-9b98-f57443bf9290",
   "metadata": {},
   "outputs": [],
   "source": [
    "dx,dy= (60,34)"
   ]
  },
  {
   "cell_type": "markdown",
   "id": "8c407851-5a78-4207-80cb-788581656806",
   "metadata": {},
   "source": [
    "#### at [0,0]"
   ]
  },
  {
   "cell_type": "code",
   "execution_count": 23,
   "id": "4536e16a-fe4a-483a-b812-3533bcc1aaa4",
   "metadata": {
    "scrolled": true
   },
   "outputs": [
    {
     "name": "stdout",
     "output_type": "stream",
     "text": [
      "2494\n"
     ]
    }
   ],
   "source": [
    "tmp = run_on_board(['sc.moveTo([0,-35])'],no_print=True)\n",
    "script = ['sc.SP._measureMinIntegTime()',\n",
    "          'print(sc.SP._min_integ_us)']\n",
    "M_min_integ_us = json.loads(run_on_board(script, no_print=True))\n",
    "print(M_min_integ_us)\n",
    "script = [\n",
    "    'sc.SP.setIntegrationTime_s({})'.format(M_min_integ_us/1e6),\n",
    "    'print(list(sc.SP.wavelengths))'\n",
    "]\n",
    "nm = json.loads(run_on_board(script,wait_s=0.1,no_print=True))"
   ]
  },
  {
   "cell_type": "markdown",
   "id": "1a3b753a-8869-44e6-acc0-ee9def7002e7",
   "metadata": {},
   "source": [
    "If see plateaus in certain wavelengths... need to adjust the integration time"
   ]
  },
  {
   "cell_type": "code",
   "execution_count": 24,
   "id": "739f3da5-d7ef-4a25-9aa6-0d68f8c5d9e3",
   "metadata": {
    "scrolled": true
   },
   "outputs": [
    {
     "data": {
      "text/plain": [
       "(0.0, 4095.0)"
      ]
     },
     "execution_count": 24,
     "metadata": {},
     "output_type": "execute_result"
    },
    {
     "data": {
      "image/png": "[encoded data removed]",
      "text/plain": [
       "<Figure size 640x480 with 1 Axes>"
      ]
     },
     "metadata": {},
     "output_type": "display_data"
    }
   ],
   "source": [
    "data = get_spectrum()\n",
    "plot(nm, data)\n",
    "ylabel(\"[au]\")\n",
    "xlabel(\"[nm]\")\n",
    "ylim(0,4095)"
   ]
  },
  {
   "cell_type": "markdown",
   "id": "f62e1ab7-4c67-4df8-861a-f4d869a9d029",
   "metadata": {},
   "source": [
    "#### at [0,y_max]"
   ]
  },
  {
   "cell_type": "code",
   "execution_count": 132,
   "id": "3a59332d-74c3-4425-9b80-219b4a879304",
   "metadata": {},
   "outputs": [],
   "source": [
    "dy = 30"
   ]
  },
  {
   "cell_type": "code",
   "execution_count": 133,
   "id": "cfbf5897-efed-4e4f-b044-f3e365ef332a",
   "metadata": {},
   "outputs": [
    {
     "name": "stdout",
     "output_type": "stream",
     "text": [
      "2494\n"
     ]
    }
   ],
   "source": [
    "tmp = run_on_board(['sc.moveTo([0,{}])'.format(dy//2)],no_print=True)\n",
    "## measure the min integ time for the sky\n",
    "script = ['sc.SP._measureMinIntegTime()',\n",
    "          'print(sc.SP._min_integ_us)']\n",
    "H_min_integ_us = json.loads(run_on_board(script, no_print=True))\n",
    "print(H_min_integ_us)\n",
    "script = [\n",
    "    'sc.SP.setIntegrationTime_s({})'.format(H_min_integ_us/1e6),\n",
    "    'print(list(sc.SP.wavelengths))'\n",
    "]\n",
    "nm = json.loads(run_on_board(script,wait_s=0.1,no_print=True))"
   ]
  },
  {
   "cell_type": "code",
   "execution_count": 134,
   "id": "16568caf-dffb-4710-8b04-44c78a38e679",
   "metadata": {
    "scrolled": true
   },
   "outputs": [
    {
     "data": {
      "text/plain": [
       "(0.0, 4095.0)"
      ]
     },
     "execution_count": 134,
     "metadata": {},
     "output_type": "execute_result"
    },
    {
     "data": {
      "image/png": "[encoded data removed]",
      "text/plain": [
       "<Figure size 640x480 with 1 Axes>"
      ]
     },
     "metadata": {},
     "output_type": "display_data"
    }
   ],
   "source": [
    "data = get_spectrum()\n",
    "plot(nm, data)\n",
    "ylabel(\"[au]\")\n",
    "xlabel(\"[nm]\")\n",
    "ylim(0,4095)"
   ]
  },
  {
   "cell_type": "markdown",
   "id": "74e56239-3b09-4b46-9b9a-12b5c481fa42",
   "metadata": {},
   "source": [
    "#### at [0,y_min]"
   ]
  },
  {
   "cell_type": "code",
   "execution_count": 135,
   "id": "4c10f3ef-6090-4e95-b168-643bd5a70b9c",
   "metadata": {},
   "outputs": [
    {
     "name": "stdout",
     "output_type": "stream",
     "text": [
      "2494\n"
     ]
    }
   ],
   "source": [
    "tmp = run_on_board(['sc.moveTo([0,{}])'.format(-1*dy//2)],no_print=True)\n",
    "## measure the min integ time for the sky\n",
    "script = ['sc.SP._measureMinIntegTime()',\n",
    "          'print(sc.SP._min_integ_us)']\n",
    "L_min_integ_us = json.loads(run_on_board(script, no_print=True))\n",
    "\n",
    "print(L_min_integ_us)\n",
    "script = [\n",
    "    'sc.SP.setIntegrationTime_s({})'.format(L_min_integ_us/1e6),\n",
    "    'print(list(sc.SP.wavelengths))'\n",
    "]\n",
    "nm = json.loads(run_on_board(script,wait_s=0.1,no_print=True))"
   ]
  },
  {
   "cell_type": "code",
   "execution_count": 136,
   "id": "3353d2f8-c69c-4142-bd3c-c8d0cf821831",
   "metadata": {
    "scrolled": true
   },
   "outputs": [
    {
     "data": {
      "text/plain": [
       "(0.0, 4095.0)"
      ]
     },
     "execution_count": 136,
     "metadata": {},
     "output_type": "execute_result"
    },
    {
     "data": {
      "image/png": "[encoded data removed]",
      "text/plain": [
       "<Figure size 640x480 with 1 Axes>"
      ]
     },
     "metadata": {},
     "output_type": "display_data"
    }
   ],
   "source": [
    "data = get_spectrum()\n",
    "plot(nm, data)\n",
    "ylabel(\"[au]\")\n",
    "xlabel(\"[nm]\")\n",
    "ylim(0,4095)"
   ]
  },
  {
   "cell_type": "code",
   "execution_count": 119,
   "id": "b90cd535-10eb-44c7-89b0-c74748b907ca",
   "metadata": {},
   "outputs": [
    {
     "data": {
      "text/plain": [
       "(2494, 2494, 2494)"
      ]
     },
     "execution_count": 119,
     "metadata": {},
     "output_type": "execute_result"
    }
   ],
   "source": [
    "H_min_integ_us,M_min_integ_us,L_min_integ_us"
   ]
  },
  {
   "cell_type": "code",
   "execution_count": 120,
   "id": "99ede128-bb16-46a1-91e2-589171a6531b",
   "metadata": {},
   "outputs": [
    {
     "name": "stdout",
     "output_type": "stream",
     "text": [
      "2494\n"
     ]
    }
   ],
   "source": [
    "min_integ_us = min(H_min_integ_us,M_min_integ_us,L_min_integ_us)\n",
    "print(min_integ_us)"
   ]
  },
  {
   "cell_type": "markdown",
   "id": "edf5d462-7b96-494e-8a19-bac86fd134c1",
   "metadata": {},
   "source": [
    "### use the min_integ_us to measure the whole scene"
   ]
  },
  {
   "cell_type": "code",
   "execution_count": 121,
   "id": "1b562687-735e-4b19-8241-62bd1cba6f1d",
   "metadata": {},
   "outputs": [],
   "source": [
    "sx,sy = (2,2)          # Step size in [°]\n",
    "nPix = (dx//sx+1)*(dy//sy+1)"
   ]
  },
  {
   "cell_type": "code",
   "execution_count": 122,
   "id": "0eb2957d-3c35-4953-a599-324c102b3158",
   "metadata": {},
   "outputs": [],
   "source": [
    "fname = \"\"          # File name, keep empty if only temporary\n",
    "\n",
    "header = {}\n",
    "wavelengths_nm = None"
   ]
  },
  {
   "cell_type": "code",
   "execution_count": 123,
   "id": "ba9b8057-3777-42c7-8864-9e146b441d3c",
   "metadata": {},
   "outputs": [],
   "source": [
    "def update_header(header_dict):\n",
    "    year = time.localtime().tm_year\n",
    "    month = time.localtime().tm_mon\n",
    "    day = time.localtime().tm_mday\n",
    "    hour = time.localtime().tm_hour\n",
    "    mins = time.localtime().tm_min\n",
    "    sec = time.localtime().tm_sec\n",
    "    header_dict['date_yyyymmdd'] = [year,month,day]\n",
    "    header_dict['time_hhmmss'] = [hour,mins,sec]\n",
    "    file_name = '{}-{}-{}_{}:{}:{}'.format(year,month,day,hour,mins,sec)\n",
    "    return header_dict,file_name"
   ]
  },
  {
   "cell_type": "markdown",
   "id": "29ca1819-ff47-40a4-9d29-915af1e0dbd1",
   "metadata": {},
   "source": [
    "### scan loop"
   ]
  },
  {
   "cell_type": "code",
   "execution_count": 124,
   "id": "f03b6bc7-0bd3-449c-86d4-dd86d28255c7",
   "metadata": {},
   "outputs": [],
   "source": [
    "time_lapse = 60 # unit in second "
   ]
  },
  {
   "cell_type": "code",
   "execution_count": 125,
   "id": "127860f1-f2ff-4690-a7d3-ec917690bfcb",
   "metadata": {},
   "outputs": [],
   "source": [
    "header = {}\n",
    "wavelengths_nm = None\n",
    "    \n",
    "tmp = run_on_board(gc_cmd)"
   ]
  },
  {
   "cell_type": "code",
   "execution_count": 126,
   "id": "eb786828-b663-4e59-bd2f-b731eedd448d",
   "metadata": {},
   "outputs": [
    {
     "name": "stdout",
     "output_type": "stream",
     "text": [
      "(60,30), (2,2), 0.002494,1\n"
     ]
    }
   ],
   "source": [
    "s = \"({0},{1}), ({2},{3}), {4},{5}\".format(dx, dy,sx,sy, min_integ_us/1e6,1)\n",
    "print(s)\n",
    "tmp = run_on_board(['sc.setupScan(\"\", {0})'.format(s)], no_print=True)\n",
    "tmpList = tmp.decode().split(\"\\r\\n\")"
   ]
  },
  {
   "cell_type": "code",
   "execution_count": 127,
   "id": "502ab692-866b-4ca2-995c-ce90591266d6",
   "metadata": {},
   "outputs": [],
   "source": [
    "for ln in tmpList:\n",
    "    if len(ln.split(\"|\")) > 1:\n",
    "        output = ln.split(\"|\")[1].replace(\"\\'\", \"\\\"\")\n",
    "        if ln[0] == \"c\":\n",
    "            # This is a comment, ignore\n",
    "            pass\n",
    "        elif ln[0] == \"w\":\n",
    "            # Extract wavelengths\n",
    "            wavelengths_nm = np.array(json.loads(output)[\"wavelength_nm\"])\n",
    "        elif ln[0] == \"h\":    \n",
    "            # Extract header information\n",
    "            header.update(json.loads(output))\n",
    "        else:    \n",
    "            pass"
   ]
  },
  {
   "cell_type": "code",
   "execution_count": 128,
   "id": "135efb98-5019-4dcd-80c2-21c62fa24c14",
   "metadata": {
    "scrolled": true
   },
   "outputs": [
    {
     "data": {
      "text/plain": [
       "{'file_version': 1,\n",
       " 'date_yyyymmdd': [2000, 1, 1],\n",
       " 'time_hhmmss': [0, 25, 56],\n",
       " 'step_xy_deg': [2, 2],\n",
       " 'n_spect': 288,\n",
       " 'size_xy': [60, 30],\n",
       " 't_int_s': 0.002494}"
      ]
     },
     "execution_count": 128,
     "metadata": {},
     "output_type": "execute_result"
    }
   ],
   "source": [
    "header"
   ]
  },
  {
   "cell_type": "code",
   "execution_count": 129,
   "id": "c7a0a20e-4874-4ad2-9827-9c9a740ed9ec",
   "metadata": {},
   "outputs": [
    {
     "name": "stderr",
     "output_type": "stream",
     "text": [
      "100%|█████████████████████████████████████████| 496/496 [07:25<00:00,  1.11it/s]\n"
     ]
    }
   ],
   "source": [
    "header,f_name = update_header(header)\n",
    "SpectImg = np.zeros(((dx//sx+1)*(dy//sy+1), header[\"n_spect\"]))\n",
    "## move the scanner to the starting point\n",
    "tmp = run_on_board([\"sc.moveTo(sc.SI.xyPath[0])\"],no_print=True)\n",
    "for iPix in tqdm(range(nPix)):\n",
    "    tmp = run_on_board([\"sc.scanNext()\"], no_print=True)\n",
    "    ln = tmp.decode().split(\"\\r\\n\")[-2].split(\"|\") # the index changes... depending on what kind of debug prints are there...\n",
    "    if len(ln) > 1:\n",
    "        s = ln[1].replace(\"\\'\", \"\\\"\");d = json.loads(s)\n",
    "    SpectImg[iPix] = d[\"spect_au\"]\n",
    "\n",
    "header['SpectImg'] = SpectImg\n",
    "header['wavelengths_nm']=wavelengths_nm\n",
    "makePickle('./header&SpecImg_{}.pkl'.format(f_name),header)"
   ]
  },
  {
   "cell_type": "code",
   "execution_count": 25,
   "id": "8b7fe6ca-1557-4458-bc5c-7466f20384bc",
   "metadata": {
    "scrolled": true
   },
   "outputs": [
    {
     "ename": "NameError",
     "evalue": "name 'sx' is not defined",
     "output_type": "error",
     "traceback": [
      "\u001b[0;31m---------------------------------------------------------------------------\u001b[0m",
      "\u001b[0;31mNameError\u001b[0m                                 Traceback (most recent call last)",
      "Cell \u001b[0;32mIn[25], line 13\u001b[0m\n\u001b[1;32m      5\u001b[0m tmp \u001b[38;5;241m=\u001b[39m run_on_board(gc_cmd)\n\u001b[1;32m      6\u001b[0m \u001b[38;5;66;03m# hour = time.localtime().tm_hour\u001b[39;00m\n\u001b[1;32m      7\u001b[0m \u001b[38;5;66;03m# if hour in [21,6,7]:\u001b[39;00m\n\u001b[1;32m      8\u001b[0m \u001b[38;5;66;03m#     tInt_s = 0.01\u001b[39;00m\n\u001b[0;32m   (...)\u001b[0m\n\u001b[1;32m     11\u001b[0m \u001b[38;5;66;03m# if hour in [0,1,2,3,4]:\u001b[39;00m\n\u001b[1;32m     12\u001b[0m \u001b[38;5;66;03m#     tInt_s = 0.1\u001b[39;00m\n\u001b[0;32m---> 13\u001b[0m s \u001b[38;5;241m=\u001b[39m \u001b[38;5;124m\"\u001b[39m\u001b[38;5;124m(\u001b[39m\u001b[38;5;132;01m{0}\u001b[39;00m\u001b[38;5;124m,\u001b[39m\u001b[38;5;132;01m{1}\u001b[39;00m\u001b[38;5;124m), (\u001b[39m\u001b[38;5;132;01m{2}\u001b[39;00m\u001b[38;5;124m,\u001b[39m\u001b[38;5;132;01m{3}\u001b[39;00m\u001b[38;5;124m), \u001b[39m\u001b[38;5;132;01m{4}\u001b[39;00m\u001b[38;5;124m,\u001b[39m\u001b[38;5;132;01m{5}\u001b[39;00m\u001b[38;5;124m\"\u001b[39m\u001b[38;5;241m.\u001b[39mformat(dx, dy,\u001b[43msx\u001b[49m,sy, min_integ_us,\u001b[38;5;241m1\u001b[39m)\n\u001b[1;32m     14\u001b[0m \u001b[38;5;28mprint\u001b[39m(s)\n\u001b[1;32m     15\u001b[0m tmp \u001b[38;5;241m=\u001b[39m run_on_board([\u001b[38;5;124m'\u001b[39m\u001b[38;5;124msc.setupScan(\u001b[39m\u001b[38;5;124m\"\u001b[39m\u001b[38;5;124m\"\u001b[39m\u001b[38;5;124m, \u001b[39m\u001b[38;5;132;01m{0}\u001b[39;00m\u001b[38;5;124m)\u001b[39m\u001b[38;5;124m'\u001b[39m\u001b[38;5;241m.\u001b[39mformat(s)], no_print\u001b[38;5;241m=\u001b[39m\u001b[38;5;28;01mTrue\u001b[39;00m)\n",
      "\u001b[0;31mNameError\u001b[0m: name 'sx' is not defined"
     ]
    }
   ],
   "source": [
    "while True:\n",
    "    header = {}\n",
    "    wavelengths_nm = None\n",
    "    \n",
    "    tmp = run_on_board(gc_cmd)\n",
    "    # hour = time.localtime().tm_hour\n",
    "    # if hour in [21,6,7]:\n",
    "    #     tInt_s = 0.01\n",
    "    # if hour in [22,23,5]:\n",
    "    #     tInt_s = 0.05\n",
    "    # if hour in [0,1,2,3,4]:\n",
    "    #     tInt_s = 0.1\n",
    "    s = \"({0},{1}), ({2},{3}), {4},{5}\".format(dx, dy,sx,sy, min_integ_us,1)\n",
    "    print(s)\n",
    "    tmp = run_on_board(['sc.setupScan(\"\", {0})'.format(s)], no_print=True)\n",
    "    tmpList = tmp.decode().split(\"\\r\\n\")\n",
    "    \n",
    "    for ln in tmpList:\n",
    "        if len(ln.split(\"|\")) > 1:\n",
    "            output = ln.split(\"|\")[1].replace(\"\\'\", \"\\\"\")\n",
    "            if ln[0] == \"c\":\n",
    "                # This is a comment, ignore\n",
    "                pass\n",
    "            elif ln[0] == \"w\":\n",
    "                # Extract wavelengths\n",
    "                wavelengths_nm = np.array(json.loads(output)[\"wavelength_nm\"])\n",
    "            elif ln[0] == \"h\":    \n",
    "                # Extract header information\n",
    "                header.update(json.loads(output))\n",
    "            else:    \n",
    "                pass\n",
    "    \n",
    "    header,f_name = update_header(header)\n",
    "    SpectImg = np.zeros(((dx//sx+1)*(dy//sy+1), header[\"n_spect\"]))\n",
    "    ## move the scanner to the starting point\n",
    "    tmp = run_on_board([\"sc.moveTo(sc.SI.xyPath[0])\"],no_print=True)\n",
    "    for iPix in tqdm(range(nPix)):\n",
    "        tmp = run_on_board([\"sc.scanNext()\"], no_print=True)\n",
    "        ln = tmp.decode().split(\"\\r\\n\")[-2].split(\"|\") # the index changes... depending on what kind of debug prints are there...\n",
    "        if len(ln) > 1:\n",
    "            s = ln[1].replace(\"\\'\", \"\\\"\");d = json.loads(s)\n",
    "        SpectImg[iPix] = d[\"spect_au\"]\n",
    "\n",
    "    header['SpectImg'] = SpectImg\n",
    "    header['wavelengths_nm']=wavelengths_nm\n",
    "    makePickle('./header&SpecImg_{}.pkl'.format(f_name),header)\n",
    "    time.sleep(time_lapse)"
   ]
  },
  {
   "cell_type": "code",
   "execution_count": 17,
   "id": "97165cc1-f040-456b-b93b-6ea8dce33969",
   "metadata": {},
   "outputs": [
    {
     "data": {
      "text/plain": [
       "'2024-6-16_15:30:48'"
      ]
     },
     "execution_count": 17,
     "metadata": {},
     "output_type": "execute_result"
    }
   ],
   "source": [
    "f_name"
   ]
  },
  {
   "cell_type": "markdown",
   "id": "d02366d4-0618-485c-ab85-ac5ba14394f4",
   "metadata": {},
   "source": [
    "## visualization area"
   ]
  },
  {
   "cell_type": "code",
   "execution_count": 18,
   "id": "73369042-aa72-4084-b452-5cf7c04f940f",
   "metadata": {},
   "outputs": [
    {
     "ename": "FileNotFoundError",
     "evalue": "[Errno 2] No such file or directory: './recording/header&SpecImg_2024-6-16_15:30:48.pkl'",
     "output_type": "error",
     "traceback": [
      "\u001b[0;31m---------------------------------------------------------------------------\u001b[0m",
      "\u001b[0;31mFileNotFoundError\u001b[0m                         Traceback (most recent call last)",
      "Cell \u001b[0;32mIn[18], line 1\u001b[0m\n\u001b[0;32m----> 1\u001b[0m test \u001b[38;5;241m=\u001b[39m \u001b[43munPickle\u001b[49m\u001b[43m(\u001b[49m\u001b[38;5;124;43m'\u001b[39;49m\u001b[38;5;124;43m./recording/header&SpecImg_2024-6-16_15:30:48.pkl\u001b[39;49m\u001b[38;5;124;43m'\u001b[39;49m\u001b[43m)\u001b[49m\n",
      "Cell \u001b[0;32mIn[2], line 5\u001b[0m, in \u001b[0;36munPickle\u001b[0;34m(filename)\u001b[0m\n\u001b[1;32m      1\u001b[0m \u001b[38;5;28;01mdef\u001b[39;00m \u001b[38;5;21munPickle\u001b[39m(filename):\n\u001b[1;32m      2\u001b[0m \u001b[38;5;250m    \u001b[39m\u001b[38;5;124;03m'''\u001b[39;00m\n\u001b[1;32m      3\u001b[0m \u001b[38;5;124;03m    to shorten 3 lines into 1 line\u001b[39;00m\n\u001b[1;32m      4\u001b[0m \u001b[38;5;124;03m    '''\u001b[39;00m\n\u001b[0;32m----> 5\u001b[0m     \u001b[38;5;28;01mwith\u001b[39;00m \u001b[38;5;28;43mopen\u001b[39;49m\u001b[43m(\u001b[49m\u001b[43mfilename\u001b[49m\u001b[43m,\u001b[49m\u001b[38;5;124;43m'\u001b[39;49m\u001b[38;5;124;43mrb\u001b[39;49m\u001b[38;5;124;43m'\u001b[39;49m\u001b[43m)\u001b[49m \u001b[38;5;28;01mas\u001b[39;00m f:\n\u001b[1;32m      6\u001b[0m         output \u001b[38;5;241m=\u001b[39m pickle\u001b[38;5;241m.\u001b[39mload(f)\n\u001b[1;32m      7\u001b[0m     f\u001b[38;5;241m.\u001b[39mclose()\n",
      "File \u001b[0;32m~/.local/lib/python3.10/site-packages/IPython/core/interactiveshell.py:324\u001b[0m, in \u001b[0;36m_modified_open\u001b[0;34m(file, *args, **kwargs)\u001b[0m\n\u001b[1;32m    317\u001b[0m \u001b[38;5;28;01mif\u001b[39;00m file \u001b[38;5;129;01min\u001b[39;00m {\u001b[38;5;241m0\u001b[39m, \u001b[38;5;241m1\u001b[39m, \u001b[38;5;241m2\u001b[39m}:\n\u001b[1;32m    318\u001b[0m     \u001b[38;5;28;01mraise\u001b[39;00m \u001b[38;5;167;01mValueError\u001b[39;00m(\n\u001b[1;32m    319\u001b[0m         \u001b[38;5;124mf\u001b[39m\u001b[38;5;124m\"\u001b[39m\u001b[38;5;124mIPython won\u001b[39m\u001b[38;5;124m'\u001b[39m\u001b[38;5;124mt let you open fd=\u001b[39m\u001b[38;5;132;01m{\u001b[39;00mfile\u001b[38;5;132;01m}\u001b[39;00m\u001b[38;5;124m by default \u001b[39m\u001b[38;5;124m\"\u001b[39m\n\u001b[1;32m    320\u001b[0m         \u001b[38;5;124m\"\u001b[39m\u001b[38;5;124mas it is likely to crash IPython. If you know what you are doing, \u001b[39m\u001b[38;5;124m\"\u001b[39m\n\u001b[1;32m    321\u001b[0m         \u001b[38;5;124m\"\u001b[39m\u001b[38;5;124myou can use builtins\u001b[39m\u001b[38;5;124m'\u001b[39m\u001b[38;5;124m open.\u001b[39m\u001b[38;5;124m\"\u001b[39m\n\u001b[1;32m    322\u001b[0m     )\n\u001b[0;32m--> 324\u001b[0m \u001b[38;5;28;01mreturn\u001b[39;00m \u001b[43mio_open\u001b[49m\u001b[43m(\u001b[49m\u001b[43mfile\u001b[49m\u001b[43m,\u001b[49m\u001b[43m \u001b[49m\u001b[38;5;241;43m*\u001b[39;49m\u001b[43margs\u001b[49m\u001b[43m,\u001b[49m\u001b[43m \u001b[49m\u001b[38;5;241;43m*\u001b[39;49m\u001b[38;5;241;43m*\u001b[39;49m\u001b[43mkwargs\u001b[49m\u001b[43m)\u001b[49m\n",
      "\u001b[0;31mFileNotFoundError\u001b[0m: [Errno 2] No such file or directory: './recording/header&SpecImg_2024-6-16_15:30:48.pkl'"
     ]
    }
   ],
   "source": [
    "test = unPickle('./recording/header&SpecImg_2024-6-16_15:30:48.pkl')"
   ]
  },
  {
   "cell_type": "code",
   "execution_count": 29,
   "id": "352416ad-93c3-45d6-b5f0-ef29ab2901ef",
   "metadata": {},
   "outputs": [
    {
     "data": {
      "text/plain": [
       "{'file_version': 1,\n",
       " 'date_yyyymmdd': [2024, 5, 31],\n",
       " 'time_hhmmss': [10, 50, 4],\n",
       " 'step_xy_deg': [2, 2],\n",
       " 'n_spect': 288,\n",
       " 'size_xy': [80, 80],\n",
       " 't_int_s': 0.005,\n",
       " 'SpectImg': array([[ 233.,  210.,  209., ...,  336.,  343.,  325.],\n",
       "        [ 289.,  276.,  276., ...,  592.,  591.,  576.],\n",
       "        [ 797.,  797.,  786., ..., 2927., 2892., 2825.],\n",
       "        ...,\n",
       "        [ 220.,  208.,  217., ...,  336.,  349.,  325.],\n",
       "        [ 235.,  230.,  225., ...,  303.,  305.,  299.],\n",
       "        [ 217.,  212.,  213., ...,  347.,  356.,  336.]]),\n",
       " 'wavelengths_nm': array([317.    , 320.    , 323.    , 325.    , 328.    , 331.    ,\n",
       "        334.    , 336.    , 339.    , 342.    , 344.    , 347.    ,\n",
       "        350.    , 352.    , 355.    , 357.    , 360.    , 363.    ,\n",
       "        365.    , 368.    , 371.    , 373.    , 376.    , 379.    ,\n",
       "        381.    , 384.    , 386.    , 389.    , 392.    , 394.    ,\n",
       "        397.    , 400.    , 402.    , 405.    , 407.    , 410.    ,\n",
       "        413.    , 415.    , 418.    , 420.    , 423.    , 425.    ,\n",
       "        428.    , 431.    , 433.    , 436.    , 438.    , 441.    ,\n",
       "        443.    , 446.    , 448.    , 451.    , 453.    , 456.    ,\n",
       "        458.    , 461.    , 463.    , 466.    , 468.    , 471.    ,\n",
       "        473.    , 476.    , 478.    , 481.    , 483.    , 486.    ,\n",
       "        488.    , 491.    , 493.    , 495.    , 498.    , 500.    ,\n",
       "        503.    , 505.    , 508.    , 510.    , 512.    , 515.    ,\n",
       "        517.    , 520.    , 522.    , 524.    , 527.    , 529.    ,\n",
       "        531.    , 534.    , 536.    , 539.    , 541.    , 543.    ,\n",
       "        546.    , 548.    , 550.    , 553.    , 555.    , 557.    ,\n",
       "        559.    , 562.    , 564.    , 566.    , 569.    , 571.    ,\n",
       "        573.    , 575.    , 578.    , 580.    , 582.    , 584.    ,\n",
       "        587.    , 589.    , 591.    , 593.    , 595.    , 598.    ,\n",
       "        600.    , 602.    , 604.    , 606.    , 608.    , 611.    ,\n",
       "        613.    , 615.    , 617.    , 619.    , 621.    , 623.    ,\n",
       "        626.    , 628.    , 630.    , 632.    , 634.    , 636.    ,\n",
       "        638.    , 640.    , 642.    , 644.    , 646.    , 649.    ,\n",
       "        651.    , 653.    , 655.    , 657.    , 659.    , 661.    ,\n",
       "        663.    , 665.    , 667.    , 669.    , 671.    , 673.    ,\n",
       "        675.    , 677.    , 679.    , 680.    , 682.    , 684.    ,\n",
       "        686.    , 688.    , 690.    , 692.    , 694.    , 696.    ,\n",
       "        698.    , 700.    , 701.    , 703.    , 705.    , 707.    ,\n",
       "        709.    , 711.    , 713.    , 714.    , 716.    , 718.    ,\n",
       "        720.    , 722.    , 724.    , 725.    , 727.    , 729.    ,\n",
       "        731.    , 732.    , 734.    , 736.    , 738.    , 740.    ,\n",
       "        741.    , 743.    , 745.    , 746.    , 748.    , 750.    ,\n",
       "        752.    , 753.    , 755.    , 757.    , 758.    , 760.    ,\n",
       "        762.    , 763.    , 765.    , 767.    , 768.    , 770.    ,\n",
       "        772.    , 773.    , 775.    , 776.    , 778.    , 780.    ,\n",
       "        781.    , 783.    , 784.    , 786.    , 787.    , 789.    ,\n",
       "        791.    , 792.    , 794.    , 795.    , 797.    , 798.    ,\n",
       "        800.    , 801.    , 803.    , 804.    , 805.9999, 807.    ,\n",
       "        809.    , 809.9999, 812.    , 813.    , 815.    , 816.    ,\n",
       "        817.9999, 819.    , 820.    , 822.    , 823.    , 825.    ,\n",
       "        826.    , 828.    , 829.    , 830.    , 832.    , 833.    ,\n",
       "        834.    , 836.    , 837.    , 838.9999, 840.    , 841.    ,\n",
       "        842.9999, 844.    , 845.    , 847.    , 848.    , 849.    ,\n",
       "        851.    , 852.    , 853.    , 854.    , 855.9999, 857.    ,\n",
       "        858.    , 859.9999, 861.    , 862.    , 863.    , 865.    ,\n",
       "        866.    , 867.    , 867.9999, 870.    , 871.    , 872.    ,\n",
       "        873.    , 874.    , 876.    , 877.    , 878.    , 879.    ,\n",
       "        880.    , 882.    , 883.    , 884.    , 884.9999, 886.    ])}"
      ]
     },
     "execution_count": 29,
     "metadata": {},
     "output_type": "execute_result"
    }
   ],
   "source": [
    "test"
   ]
  },
  {
   "cell_type": "code",
   "execution_count": 31,
   "id": "09edf217-728d-47af-8389-a74bf01311af",
   "metadata": {},
   "outputs": [],
   "source": [
    "def uppack_header(header_dict):\n",
    "    sx,sy = test['step_xy_deg']\n",
    "    SpectImg = test['SpectImg']\n",
    "    n_spect = test['n_spect']\n",
    "    dx,dy = test['size_xy']\n",
    "    t_int_s = test['t_int_s']\n",
    "    wavelengths_nm = test['wavelengths_nm']\n",
    "    return sx,sy,n_spect,dx,dy,t_int_s,SpectImg,wavelengths_nm"
   ]
  },
  {
   "cell_type": "code",
   "execution_count": 33,
   "id": "fe0b37bd-8dc8-4a49-9b00-c3528901e68c",
   "metadata": {},
   "outputs": [],
   "source": [
    "sx,sy,n_spect,dx,dy,t_int_s,SpectImg,wavelengths_nm = uppack_header(test)"
   ]
  },
  {
   "cell_type": "code",
   "execution_count": 34,
   "id": "3bd25709-a1e0-488c-958f-82465d4d393d",
   "metadata": {},
   "outputs": [],
   "source": [
    "SpectImg = SpectImg.reshape((dy//sy+1,dx//sx+1,n_spect))"
   ]
  },
  {
   "cell_type": "markdown",
   "id": "59265160-63cc-4879-8544-b9b40ee97417",
   "metadata": {},
   "source": [
    "#### mono veresion"
   ]
  },
  {
   "cell_type": "code",
   "execution_count": 35,
   "id": "5c471690-6412-4ff5-9276-c630a61558f9",
   "metadata": {},
   "outputs": [
    {
     "data": {
      "image/png": "[encoded data removed]",
      "text/plain": [
       "<Figure size 900x300 with 1 Axes>"
      ]
     },
     "metadata": {},
     "output_type": "display_data"
    }
   ],
   "source": [
    "imgMono = np.zeros((dy//sy+1,dx//sx+1,3))\n",
    "img = np.trapz(SpectImg)\n",
    "img /= img.max()\n",
    "for iCh in range(3):\n",
    "    imgMono[:,:,iCh] = img.reshape((dy//sy+1,dx//sx+1))\n",
    "    \n",
    "fig, (ax1) = plt.subplots(1, 1, figsize=(9,3))\n",
    "im1 = ax1.imshow(imgMono)    "
   ]
  },
  {
   "cell_type": "code",
   "execution_count": 36,
   "id": "d2109af7-f9a0-4449-9893-4bd8601c6d66",
   "metadata": {},
   "outputs": [],
   "source": [
    "SpectImgN = np.copy(SpectImg)\n",
    "SpectImgN -= SpectImg.min()\n",
    "SpectImgN /= SpectImg.max()"
   ]
  },
  {
   "cell_type": "code",
   "execution_count": 37,
   "id": "7f64ea68-534c-4a6e-8496-71a7a03a6a14",
   "metadata": {},
   "outputs": [
    {
     "ename": "NameError",
     "evalue": "name 'nan2zero' is not defined",
     "output_type": "error",
     "traceback": [
      "\u001b[0;31m---------------------------------------------------------------------------\u001b[0m",
      "\u001b[0;31mNameError\u001b[0m                                 Traceback (most recent call last)",
      "Cell \u001b[0;32mIn[37], line 4\u001b[0m\n\u001b[1;32m      1\u001b[0m opsin_nm \u001b[38;5;241m=\u001b[39m np\u001b[38;5;241m.\u001b[39mload(\u001b[38;5;124m\"\u001b[39m\u001b[38;5;124mopsins/wavelengths_nm.npz\u001b[39m\u001b[38;5;124m\"\u001b[39m)[\u001b[38;5;124m\"\u001b[39m\u001b[38;5;124mnm\u001b[39m\u001b[38;5;124m\"\u001b[39m]\n\u001b[1;32m      2\u001b[0m tempData \u001b[38;5;241m=\u001b[39m np\u001b[38;5;241m.\u001b[39mload(\u001b[38;5;124m\"\u001b[39m\u001b[38;5;124mopsins/human_SML.npz\u001b[39m\u001b[38;5;124m\"\u001b[39m)\n\u001b[0;32m----> 4\u001b[0m opsin_hSI \u001b[38;5;241m=\u001b[39m np\u001b[38;5;241m.\u001b[39minterp(wavelengths_nm, opsin_nm, \u001b[43mnan2zero\u001b[49m(tempData[\u001b[38;5;124m\"\u001b[39m\u001b[38;5;124ms\u001b[39m\u001b[38;5;124m\"\u001b[39m]))\n\u001b[1;32m      5\u001b[0m opsin_hMI \u001b[38;5;241m=\u001b[39m np\u001b[38;5;241m.\u001b[39minterp(wavelengths_nm, opsin_nm, nan2zero(tempData[\u001b[38;5;124m\"\u001b[39m\u001b[38;5;124mm\u001b[39m\u001b[38;5;124m\"\u001b[39m]))\n\u001b[1;32m      6\u001b[0m opsin_hLI \u001b[38;5;241m=\u001b[39m np\u001b[38;5;241m.\u001b[39minterp(wavelengths_nm, opsin_nm, nan2zero(tempData[\u001b[38;5;124m\"\u001b[39m\u001b[38;5;124ml\u001b[39m\u001b[38;5;124m\"\u001b[39m]))\n",
      "\u001b[0;31mNameError\u001b[0m: name 'nan2zero' is not defined"
     ]
    }
   ],
   "source": [
    "opsin_nm = np.load(\"opsins/wavelengths_nm.npz\")[\"nm\"]\n",
    "tempData = np.load(\"opsins/human_SML.npz\")\n",
    "\n",
    "opsin_hSI = np.interp(wavelengths_nm, opsin_nm, nan2zero(tempData[\"s\"]))\n",
    "opsin_hMI = np.interp(wavelengths_nm, opsin_nm, nan2zero(tempData[\"m\"]))\n",
    "opsin_hLI = np.interp(wavelengths_nm, opsin_nm, nan2zero(tempData[\"l\"]))\n",
    "\n",
    "plot(wavelengths_nm, opsin_hSI, \"b\")\n",
    "plot(wavelengths_nm, opsin_hMI, \"g\")\n",
    "plot(wavelengths_nm, opsin_hLI, \"r\")\n",
    "plot(wavelengths_nm, SpectImgN[0,0])\n",
    "ylabel(\"intensity or sensitivity, norm.\")\n",
    "xlabel(\"[nm]\")"
   ]
  },
  {
   "cell_type": "code",
   "execution_count": 38,
   "id": "0c7ff024-b162-4cab-ac57-6c380b954a7c",
   "metadata": {},
   "outputs": [
    {
     "ename": "NameError",
     "evalue": "name 'opsin_hSI' is not defined",
     "output_type": "error",
     "traceback": [
      "\u001b[0;31m---------------------------------------------------------------------------\u001b[0m",
      "\u001b[0;31mNameError\u001b[0m                                 Traceback (most recent call last)",
      "Cell \u001b[0;32mIn[38], line 4\u001b[0m\n\u001b[1;32m      1\u001b[0m dx, dy, n \u001b[38;5;241m=\u001b[39m SpectImg\u001b[38;5;241m.\u001b[39mshape\n\u001b[1;32m      2\u001b[0m imgRGB \u001b[38;5;241m=\u001b[39m np\u001b[38;5;241m.\u001b[39mzeros((dx, dy, \u001b[38;5;241m3\u001b[39m))\n\u001b[0;32m----> 4\u001b[0m s \u001b[38;5;241m=\u001b[39m \u001b[43mopsin_hSI\u001b[49m \u001b[38;5;241m*\u001b[39mSpectImgN\n\u001b[1;32m      5\u001b[0m img_s \u001b[38;5;241m=\u001b[39m np\u001b[38;5;241m.\u001b[39mtrapz(s)\n\u001b[1;32m      6\u001b[0m imgRGB[:,:,\u001b[38;5;241m0\u001b[39m] \u001b[38;5;241m=\u001b[39m img_s \u001b[38;5;241m/\u001b[39mimg_s\u001b[38;5;241m.\u001b[39mmax()\n",
      "\u001b[0;31mNameError\u001b[0m: name 'opsin_hSI' is not defined"
     ]
    }
   ],
   "source": [
    "dx, dy, n = SpectImg.shape\n",
    "imgRGB = np.zeros((dx, dy, 3))\n",
    "\n",
    "s = opsin_hSI *SpectImgN\n",
    "img_s = np.trapz(s)\n",
    "imgRGB[:,:,0] = img_s /img_s.max()\n",
    "m = opsin_hMI *SpectImgN\n",
    "img_m = np.trapz(m)\n",
    "imgRGB[:,:,1] = img_m /img_m.max()\n",
    "l = opsin_hLI *SpectImgN\n",
    "img_l = np.trapz(l)\n",
    "imgRGB[:,:,2] = img_l /img_l.max()\n",
    "\n",
    "#img /= img.max()\n",
    "fig, (ax1) = plt.subplots(1, 1, figsize=(9,3))\n",
    "im1 = ax1.imshow(imgRGB)    "
   ]
  },
  {
   "cell_type": "code",
   "execution_count": null,
   "id": "e44bdd33-b2cc-4d04-bf4b-2f6757bda45d",
   "metadata": {},
   "outputs": [],
   "source": []
  }
 ],
 "metadata": {
  "kernelspec": {
   "display_name": "Python 3 (ipykernel)",
   "language": "python",
   "name": "python3"
  },
  "language_info": {
   "codemirror_mode": {
    "name": "ipython",
    "version": 3
   },
   "file_extension": ".py",
   "mimetype": "text/x-python",
   "name": "python",
   "nbconvert_exporter": "python",
   "pygments_lexer": "ipython3",
   "version": "3.10.12"
  }
 },
 "nbformat": 4,
 "nbformat_minor": 5
}
