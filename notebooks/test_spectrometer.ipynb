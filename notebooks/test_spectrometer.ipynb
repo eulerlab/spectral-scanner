{
 "cells": [
  {
   "cell_type": "markdown",
   "metadata": {},
   "source": [
    "## Spectral scanner device test\n",
    "Simple notebook to test the different components of the spectral scanner. The script assumes that the components are connected to a ESP32 microcontroller ([HUZZAH32](https://www.adafruit.com/product/3405)) running [MicroPython](https://micropython.org/).\n",
    "The notebook uses [`pyboard.py`](https://docs.micropython.org/en/latest/reference/pyboard.py.html), a library that allows running MicroPython code via USB and [REPL](https://docs.micropython.org/en/latest/wipy/tutorial/repl.html) on the microcontroller.\n",
    "\n",
    "The following tests are included:\n",
    "\n",
    "   - Reading spectral data from the C12880MA breakout\n",
    "   - Reading heading, pitch and roll (in [°]) from the compass breakout (CMPS12)\n",
    "   - Move servos"
   ]
  },
  {
   "cell_type": "code",
   "execution_count": 1,
   "metadata": {},
   "outputs": [],
   "source": [
    "import os\n",
    "import pyboard\n",
    "import time\n",
    "import json\n",
    "import numpy as np\n",
    "from pylab import *\n",
    "from matplotlib.animation import FuncAnimation\n",
    "\n",
    "pb = None\n",
    "%matplotlib inline"
   ]
  },
  {
   "cell_type": "markdown",
   "metadata": {},
   "source": [
    "Generate a pyboard object on the COM port connected to the ESP32 (here `COM3`)"
   ]
  },
  {
   "cell_type": "markdown",
   "metadata": {},
   "source": [
    "### in Linux"
   ]
  },
  {
   "cell_type": "code",
   "execution_count": 2,
   "metadata": {},
   "outputs": [
    {
     "name": "stdout",
     "output_type": "stream",
     "text": [
      "/dev/ttyUSB1\n"
     ]
    }
   ],
   "source": [
    "## find out the port that connects to SPM 32\n",
    "result = os.popen('ls -l /dev/ttyUSB*').read()\n",
    "result = result.strip('\\n').split(' ')\n",
    "port = result[-1]\n",
    "print(port)"
   ]
  },
  {
   "cell_type": "code",
   "execution_count": 3,
   "metadata": {},
   "outputs": [],
   "source": [
    "pb = None\n",
    "try:\n",
    "    pb = pyboard.Pyboard(port)\n",
    "    pb.enter_raw_repl()  \n",
    "except pyboard.PyboardError as e:\n",
    "    print(e)  "
   ]
  },
  {
   "cell_type": "markdown",
   "metadata": {},
   "source": [
    "Define a function that runs the code contained in a list of strings on the ESP32. By default, it does not print any text coming from the microcontroller into the history. The function returns the output of the last command as a string."
   ]
  },
  {
   "cell_type": "code",
   "execution_count": 4,
   "metadata": {},
   "outputs": [],
   "source": [
    "def run_on_board(code, wait_s=0, no_print=False):\n",
    "    for ln in code:\n",
    "        res = pb.exec(ln)\n",
    "        if len(res) > 0 and not no_print:\n",
    "            res = res[:-2].decode()\n",
    "            print(res)\n",
    "    if wait_s > 0:\n",
    "        time.sleep(wait_s)        \n",
    "    return res    "
   ]
  },
  {
   "cell_type": "markdown",
   "metadata": {},
   "source": [
    "### C12880MA spectrometer\n",
    "\n",
    "The following script is run on the ESP32: it import the C12880MA chip driver and generates a C12880MA by passing the pins to which it is connected. Then it initializes the driver and sets the integration time (in [s]). The script returns a list of wavelengths (in [nm]) at which the spectrometer chip performs the measurements.\n",
    "As `run_on_board` returns a string, the `json` library is used to convert it to a Python list."
   ]
  },
  {
   "cell_type": "code",
   "execution_count": 5,
   "metadata": {},
   "outputs": [],
   "source": [
    "script = [\n",
    "    'from driver.c12880ma import C12880MA',\n",
    "    'import board',\n",
    "    'sp = C12880MA(trg=board.TRG, st=board.STA, clk=board.CLK, video=board.VID)',\n",
    "    'sp.begin()',\n",
    "    'sp.setIntegrationTime_s(0.01)',\n",
    "    'print(list(sp.wavelengths))'\n",
    "]\n",
    "nm = json.loads(run_on_board(script, wait_s=0.4, no_print=True))"
   ]
  },
  {
   "cell_type": "markdown",
   "metadata": {},
   "source": [
    "Here is a picture of the test circuit:\n",
    "\n",
    "<p align=\"center\">\n",
    "  <img width=\"720\" src=\"https://github.com/eulerlab/spectral-scanner/blob/main/pics/Wiring_c12880_test.png?raw=true\"></img>\n",
    "</p>"
   ]
  },
  {
   "cell_type": "markdown",
   "metadata": {},
   "source": [
    "Define a function that reads a spectrum from the C12880MA chip and returns it as a list."
   ]
  },
  {
   "cell_type": "code",
   "execution_count": 6,
   "metadata": {},
   "outputs": [],
   "source": [
    "def get_spectrum():\n",
    "    script = [\n",
    "        'sp.read()',\n",
    "        'print(list(sp.spectrum))'\n",
    "    ]\n",
    "    raw = json.loads(run_on_board(script, no_print=True))\n",
    "    return raw"
   ]
  },
  {
   "cell_type": "markdown",
   "metadata": {},
   "source": [
    "Finally, test the functionality: Read a new spectrum (`data`) and plot it as a function of wavelength (`nm`). "
   ]
  },
  {
   "cell_type": "code",
   "execution_count": 7,
   "metadata": {
    "scrolled": true
   },
   "outputs": [
    {
     "data": {
      "text/plain": [
       "(0.0, 4095.0)"
      ]
     },
     "execution_count": 7,
     "metadata": {},
     "output_type": "execute_result"
    },
    {
     "data": {
      "image/png": "[encoded data removed]",
      "text/plain": [
       "<Figure size 640x480 with 1 Axes>"
      ]
     },
     "metadata": {},
     "output_type": "display_data"
    }
   ],
   "source": [
    "data = get_spectrum()\n",
    "plot(nm, data)\n",
    "ylabel(\"[au]\")\n",
    "xlabel(\"[nm]\")\n",
    "ylim(0,4095)"
   ]
  },
  {
   "cell_type": "markdown",
   "metadata": {},
   "source": [
    "## find the min_integ time in us"
   ]
  },
  {
   "cell_type": "code",
   "execution_count": 11,
   "metadata": {},
   "outputs": [
    {
     "ename": "PyboardError",
     "evalue": "('exception', b'', b'Traceback (most recent call last):\\r\\n  File \"<stdin>\", line 1, in <module>\\r\\nNameError: name \\'sp\\' isn\\'t defined\\r\\n')",
     "output_type": "error",
     "traceback": [
      "\u001b[0;31m---------------------------------------------------------------------------\u001b[0m",
      "\u001b[0;31mPyboardError\u001b[0m                              Traceback (most recent call last)",
      "Cell \u001b[0;32mIn[11], line 3\u001b[0m\n\u001b[1;32m      1\u001b[0m script \u001b[38;5;241m=\u001b[39m [\u001b[38;5;124m'\u001b[39m\u001b[38;5;124msp._measureMinIntegTime()\u001b[39m\u001b[38;5;124m'\u001b[39m,\n\u001b[1;32m      2\u001b[0m           \u001b[38;5;124m'\u001b[39m\u001b[38;5;124mprint(sp._min_integ_us)\u001b[39m\u001b[38;5;124m'\u001b[39m]\n\u001b[0;32m----> 3\u001b[0m min_integ_us \u001b[38;5;241m=\u001b[39m json\u001b[38;5;241m.\u001b[39mloads(\u001b[43mrun_on_board\u001b[49m\u001b[43m(\u001b[49m\u001b[43mscript\u001b[49m\u001b[43m,\u001b[49m\u001b[43m \u001b[49m\u001b[43mno_print\u001b[49m\u001b[38;5;241;43m=\u001b[39;49m\u001b[38;5;28;43;01mTrue\u001b[39;49;00m\u001b[43m)\u001b[49m)\n\u001b[1;32m      4\u001b[0m \u001b[38;5;28mprint\u001b[39m(min_integ_us)\n",
      "Cell \u001b[0;32mIn[4], line 3\u001b[0m, in \u001b[0;36mrun_on_board\u001b[0;34m(code, wait_s, no_print)\u001b[0m\n\u001b[1;32m      1\u001b[0m \u001b[38;5;28;01mdef\u001b[39;00m \u001b[38;5;21mrun_on_board\u001b[39m(code, wait_s\u001b[38;5;241m=\u001b[39m\u001b[38;5;241m0\u001b[39m, no_print\u001b[38;5;241m=\u001b[39m\u001b[38;5;28;01mFalse\u001b[39;00m):\n\u001b[1;32m      2\u001b[0m     \u001b[38;5;28;01mfor\u001b[39;00m ln \u001b[38;5;129;01min\u001b[39;00m code:\n\u001b[0;32m----> 3\u001b[0m         res \u001b[38;5;241m=\u001b[39m \u001b[43mpb\u001b[49m\u001b[38;5;241;43m.\u001b[39;49m\u001b[43mexec\u001b[49m\u001b[43m(\u001b[49m\u001b[43mln\u001b[49m\u001b[43m)\u001b[49m\n\u001b[1;32m      4\u001b[0m         \u001b[38;5;28;01mif\u001b[39;00m \u001b[38;5;28mlen\u001b[39m(res) \u001b[38;5;241m>\u001b[39m \u001b[38;5;241m0\u001b[39m \u001b[38;5;129;01mand\u001b[39;00m \u001b[38;5;129;01mnot\u001b[39;00m no_print:\n\u001b[1;32m      5\u001b[0m             res \u001b[38;5;241m=\u001b[39m res[:\u001b[38;5;241m-\u001b[39m\u001b[38;5;241m2\u001b[39m]\u001b[38;5;241m.\u001b[39mdecode()\n",
      "File \u001b[0;32m~/Desktop/GitHub/spectral-scanner/notebooks/pyboard.py:451\u001b[0m, in \u001b[0;36mPyboard.exec_\u001b[0;34m(self, command, data_consumer)\u001b[0m\n\u001b[1;32m    449\u001b[0m ret, ret_err \u001b[38;5;241m=\u001b[39m \u001b[38;5;28mself\u001b[39m\u001b[38;5;241m.\u001b[39mexec_raw(command, data_consumer\u001b[38;5;241m=\u001b[39mdata_consumer)\n\u001b[1;32m    450\u001b[0m \u001b[38;5;28;01mif\u001b[39;00m ret_err:\n\u001b[0;32m--> 451\u001b[0m     \u001b[38;5;28;01mraise\u001b[39;00m PyboardError(\u001b[38;5;124m\"\u001b[39m\u001b[38;5;124mexception\u001b[39m\u001b[38;5;124m\"\u001b[39m, ret, ret_err)\n\u001b[1;32m    452\u001b[0m \u001b[38;5;28;01mreturn\u001b[39;00m ret\n",
      "\u001b[0;31mPyboardError\u001b[0m: ('exception', b'', b'Traceback (most recent call last):\\r\\n  File \"<stdin>\", line 1, in <module>\\r\\nNameError: name \\'sp\\' isn\\'t defined\\r\\n')"
     ]
    }
   ],
   "source": [
    "script = ['sp._measureMinIntegTime()',\n",
    "          'print(sp._min_integ_us)']\n",
    "min_integ_us = json.loads(run_on_board(script, no_print=True))\n",
    "print(min_integ_us)"
   ]
  },
  {
   "cell_type": "markdown",
   "metadata": {},
   "source": [
    "### read spectrum at the min_integ_us"
   ]
  },
  {
   "cell_type": "code",
   "execution_count": 9,
   "metadata": {},
   "outputs": [],
   "source": [
    "script = ['sp.setIntegrationTime_s({})'.format(min_integ_us/1e6)]\n",
    "tmp = run_on_board(script,no_print=True)"
   ]
  },
  {
   "cell_type": "code",
   "execution_count": 10,
   "metadata": {},
   "outputs": [
    {
     "data": {
      "text/plain": [
       "(0.0, 4095.0)"
      ]
     },
     "execution_count": 10,
     "metadata": {},
     "output_type": "execute_result"
    },
    {
     "data": {
      "image/png": "[encoded data removed]",
      "text/plain": [
       "<Figure size 640x480 with 1 Axes>"
      ]
     },
     "metadata": {},
     "output_type": "display_data"
    }
   ],
   "source": [
    "data = get_spectrum()\n",
    "plot(nm, data)\n",
    "ylabel(\"[au]\")\n",
    "xlabel(\"[nm]\")\n",
    "ylim(0,4095)"
   ]
  },
  {
   "cell_type": "code",
   "execution_count": null,
   "metadata": {},
   "outputs": [],
   "source": [
    "%matplotlib notebook\n",
    "\n",
    "nrepeats = 50\n",
    "\n",
    "fig, ax1 = plt.subplots(1,1, figsize=(6,3))\n",
    "line, = ax1.plot(nm, data)\n",
    "ylabel(\"[au]\")\n",
    "xlabel(\"[nm]\")\n",
    "ylim(0,4095)\n",
    "\n",
    "def update(i):\n",
    "    data = get_spectrum()\n",
    "    line.set_ydata(data)\n",
    "    return line,\n",
    "\n",
    "ani1 = FuncAnimation(fig, update, interval=1, blit=True)\n",
    "plt.show()"
   ]
  },
  {
   "cell_type": "markdown",
   "metadata": {},
   "source": [
    "### CMPS12 tilt-compensated compass module\n",
    "\n",
    "Read heading, pitch and roll from the compass breakout (connected via the I2C bus)"
   ]
  },
  {
   "cell_type": "code",
   "execution_count": null,
   "metadata": {},
   "outputs": [],
   "source": [
    "script = [\n",
    "    'from driver.busio import I2CBus',\n",
    "    'from driver.compass_cmps12 import Compass',\n",
    "    'i2c = I2CBus(board.I2C_FRQ, board.SCL, board.SDA, code=0)',\n",
    "    'compass = Compass(i2c)'\n",
    "]\n",
    "_ = run_on_board(script, wait_s=0.4, no_print=False)"
   ]
  },
  {
   "cell_type": "code",
   "execution_count": null,
   "metadata": {},
   "outputs": [],
   "source": [
    "for i in range(10):\n",
    "    errC, head, pitch, roll = json.loads(run_on_board(['print(list(compass.getHeading3D()))'], no_print=True))\n",
    "    print(\"heading={0:.0f}°, pitch={1}°, roll={2}°\".format(head, pitch, roll))\n",
    "    time.sleep(1.0)"
   ]
  },
  {
   "cell_type": "markdown",
   "metadata": {},
   "source": [
    "### Servos\n",
    "\n",
    "Move servos connected to pins `board.SERVO_PAN` and `board.SERVO_TLT`."
   ]
  },
  {
   "cell_type": "code",
   "execution_count": null,
   "metadata": {},
   "outputs": [],
   "source": [
    "script = [\n",
    "    'import time',\n",
    "    'import board',\n",
    "    'from driver.servo import Servo',\n",
    "    'servoPan = Servo(board.SERVO_PAN, us_range=board.PAN_RANGE_US, \\\n",
    "                      ang_range=board.PAN_RANGE_DEG, verbose=True)',\n",
    "    'servoTlt = Servo(board.SERVO_TLT, us_range=board.TLT_RANGE_US, \\\n",
    "                      ang_range=board.TLT_RANGE_DEG, verbose=True)'\n",
    "]\n",
    "_ = run_on_board(script, wait_s=0.4, no_print=False)"
   ]
  },
  {
   "cell_type": "code",
   "execution_count": null,
   "metadata": {},
   "outputs": [],
   "source": [
    "for i in range(3):\n",
    "    run_on_board(['servoPan.angle = 0', \\\n",
    "                  'servoTlt.angle = 0'], no_print=True)\n",
    "    time.sleep(1.0)\n",
    "    run_on_board(['servoPan.angle =-60', \\\n",
    "                  'servoTlt.angle =+60'], no_print=True)\n",
    "    time.sleep(1.0)\n",
    "    run_on_board(['servoPan.angle = +60', \\\n",
    "                  'servoTlt.angle = -60'], no_print=True)\n",
    "    time.sleep(1.0)\n",
    "\n",
    "_ = run_on_board(['servoPan.angle = 0', \\\n",
    "                  'servoTlt.angle = 0'], no_print=True)"
   ]
  },
  {
   "cell_type": "code",
   "execution_count": null,
   "metadata": {},
   "outputs": [],
   "source": [
    "board.PAN_RANGE_US\n"
   ]
  },
  {
   "cell_type": "code",
   "execution_count": null,
   "metadata": {},
   "outputs": [],
   "source": []
  }
 ],
 "metadata": {
  "kernelspec": {
   "display_name": "Python 3 (ipykernel)",
   "language": "python",
   "name": "python3"
  },
  "language_info": {
   "codemirror_mode": {
    "name": "ipython",
    "version": 3
   },
   "file_extension": ".py",
   "mimetype": "text/x-python",
   "name": "python",
   "nbconvert_exporter": "python",
   "pygments_lexer": "ipython3",
   "version": "3.10.12"
  }
 },
 "nbformat": 4,
 "nbformat_minor": 4
}
